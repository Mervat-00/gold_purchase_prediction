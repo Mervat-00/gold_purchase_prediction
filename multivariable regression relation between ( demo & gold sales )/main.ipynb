{
 "cells": [
  {
   "cell_type": "code",
   "execution_count": 1,
   "id": "9d558762",
   "metadata": {},
   "outputs": [],
   "source": [
    "import numpy as np \n",
    "import pandas as pd \n",
    "import seaborn as sns\n",
    "import matplotlib.pyplot as plt \n",
    "%matplotlib inline\n",
    "from sklearn.linear_model import LinearRegression\n",
    "from sklearn.metrics import mean_squared_error\n",
    "from sklearn.model_selection import train_test_split\n",
    "from sklearn.preprocessing import LabelEncoder\n",
    "import math"
   ]
  },
  {
   "cell_type": "code",
   "execution_count": 2,
   "id": "295aed4d",
   "metadata": {},
   "outputs": [
    {
     "data": {
      "text/html": [
       "<div>\n",
       "<style scoped>\n",
       "    .dataframe tbody tr th:only-of-type {\n",
       "        vertical-align: middle;\n",
       "    }\n",
       "\n",
       "    .dataframe tbody tr th {\n",
       "        vertical-align: top;\n",
       "    }\n",
       "\n",
       "    .dataframe thead th {\n",
       "        text-align: right;\n",
       "    }\n",
       "</style>\n",
       "<table border=\"1\" class=\"dataframe\">\n",
       "  <thead>\n",
       "    <tr style=\"text-align: right;\">\n",
       "      <th></th>\n",
       "      <th>ID</th>\n",
       "      <th>gold_pur</th>\n",
       "      <th>Unnamed: 2</th>\n",
       "      <th>Unnamed: 3</th>\n",
       "      <th>Unnamed: 4</th>\n",
       "      <th>Unnamed: 5</th>\n",
       "      <th>Unnamed: 6</th>\n",
       "      <th>Unnamed: 7</th>\n",
       "      <th>Year_Birth</th>\n",
       "      <th>Education</th>\n",
       "      <th>Marital_Status</th>\n",
       "      <th>income</th>\n",
       "      <th>Kidhome</th>\n",
       "      <th>Teenhome</th>\n",
       "      <th>segment</th>\n",
       "    </tr>\n",
       "  </thead>\n",
       "  <tbody>\n",
       "    <tr>\n",
       "      <th>0</th>\n",
       "      <td>1826</td>\n",
       "      <td>218</td>\n",
       "      <td>NaN</td>\n",
       "      <td>NaN</td>\n",
       "      <td>NaN</td>\n",
       "      <td>NaN</td>\n",
       "      <td>NaN</td>\n",
       "      <td>NaN</td>\n",
       "      <td>1970</td>\n",
       "      <td>Graduation</td>\n",
       "      <td>Divorced</td>\n",
       "      <td>84835</td>\n",
       "      <td>0</td>\n",
       "      <td>0</td>\n",
       "      <td>1</td>\n",
       "    </tr>\n",
       "    <tr>\n",
       "      <th>1</th>\n",
       "      <td>1</td>\n",
       "      <td>37</td>\n",
       "      <td>NaN</td>\n",
       "      <td>NaN</td>\n",
       "      <td>NaN</td>\n",
       "      <td>NaN</td>\n",
       "      <td>NaN</td>\n",
       "      <td>NaN</td>\n",
       "      <td>1961</td>\n",
       "      <td>Graduation</td>\n",
       "      <td>Single</td>\n",
       "      <td>57091</td>\n",
       "      <td>0</td>\n",
       "      <td>0</td>\n",
       "      <td>1</td>\n",
       "    </tr>\n",
       "    <tr>\n",
       "      <th>2</th>\n",
       "      <td>10476</td>\n",
       "      <td>30</td>\n",
       "      <td>NaN</td>\n",
       "      <td>NaN</td>\n",
       "      <td>NaN</td>\n",
       "      <td>NaN</td>\n",
       "      <td>NaN</td>\n",
       "      <td>NaN</td>\n",
       "      <td>1958</td>\n",
       "      <td>Graduation</td>\n",
       "      <td>Married</td>\n",
       "      <td>67267</td>\n",
       "      <td>0</td>\n",
       "      <td>1</td>\n",
       "      <td>2</td>\n",
       "    </tr>\n",
       "    <tr>\n",
       "      <th>3</th>\n",
       "      <td>1386</td>\n",
       "      <td>0</td>\n",
       "      <td>NaN</td>\n",
       "      <td>NaN</td>\n",
       "      <td>NaN</td>\n",
       "      <td>NaN</td>\n",
       "      <td>NaN</td>\n",
       "      <td>NaN</td>\n",
       "      <td>1967</td>\n",
       "      <td>Graduation</td>\n",
       "      <td>Together</td>\n",
       "      <td>32474</td>\n",
       "      <td>1</td>\n",
       "      <td>1</td>\n",
       "      <td>3</td>\n",
       "    </tr>\n",
       "    <tr>\n",
       "      <th>4</th>\n",
       "      <td>5371</td>\n",
       "      <td>34</td>\n",
       "      <td>NaN</td>\n",
       "      <td>NaN</td>\n",
       "      <td>NaN</td>\n",
       "      <td>NaN</td>\n",
       "      <td>NaN</td>\n",
       "      <td>NaN</td>\n",
       "      <td>1989</td>\n",
       "      <td>Graduation</td>\n",
       "      <td>Single</td>\n",
       "      <td>21474</td>\n",
       "      <td>1</td>\n",
       "      <td>0</td>\n",
       "      <td>0</td>\n",
       "    </tr>\n",
       "  </tbody>\n",
       "</table>\n",
       "</div>"
      ],
      "text/plain": [
       "      ID  gold_pur  Unnamed: 2  Unnamed: 3  Unnamed: 4  Unnamed: 5  \\\n",
       "0   1826       218         NaN         NaN         NaN         NaN   \n",
       "1      1        37         NaN         NaN         NaN         NaN   \n",
       "2  10476        30         NaN         NaN         NaN         NaN   \n",
       "3   1386         0         NaN         NaN         NaN         NaN   \n",
       "4   5371        34         NaN         NaN         NaN         NaN   \n",
       "\n",
       "   Unnamed: 6  Unnamed: 7  Year_Birth   Education Marital_Status  income  \\\n",
       "0         NaN         NaN        1970  Graduation       Divorced   84835   \n",
       "1         NaN         NaN        1961  Graduation         Single   57091   \n",
       "2         NaN         NaN        1958  Graduation        Married   67267   \n",
       "3         NaN         NaN        1967  Graduation       Together   32474   \n",
       "4         NaN         NaN        1989  Graduation         Single   21474   \n",
       "\n",
       "   Kidhome  Teenhome  segment  \n",
       "0        0         0        1  \n",
       "1        0         0        1  \n",
       "2        0         1        2  \n",
       "3        1         1        3  \n",
       "4        1         0        0  "
      ]
     },
     "execution_count": 2,
     "metadata": {},
     "output_type": "execute_result"
    }
   ],
   "source": [
    "gold_sales = pd.read_csv('gold sales.csv')\n",
    "demo = pd.read_csv('segmented_id.csv')\n",
    "df = pd.merge(gold_sales , demo , on = 'ID' )\n",
    "df.head()"
   ]
  },
  {
   "cell_type": "code",
   "execution_count": 3,
   "id": "d1b5118a",
   "metadata": {},
   "outputs": [
    {
     "data": {
      "text/plain": [
       "(2216, 15)"
      ]
     },
     "execution_count": 3,
     "metadata": {},
     "output_type": "execute_result"
    }
   ],
   "source": [
    "df.shape"
   ]
  },
  {
   "cell_type": "code",
   "execution_count": 4,
   "id": "d671fd1f",
   "metadata": {
    "scrolled": true
   },
   "outputs": [
    {
     "data": {
      "text/html": [
       "<div>\n",
       "<style scoped>\n",
       "    .dataframe tbody tr th:only-of-type {\n",
       "        vertical-align: middle;\n",
       "    }\n",
       "\n",
       "    .dataframe tbody tr th {\n",
       "        vertical-align: top;\n",
       "    }\n",
       "\n",
       "    .dataframe thead th {\n",
       "        text-align: right;\n",
       "    }\n",
       "</style>\n",
       "<table border=\"1\" class=\"dataframe\">\n",
       "  <thead>\n",
       "    <tr style=\"text-align: right;\">\n",
       "      <th></th>\n",
       "      <th>gold_pur</th>\n",
       "      <th>Year_Birth</th>\n",
       "      <th>Education</th>\n",
       "      <th>Marital_Status</th>\n",
       "      <th>income</th>\n",
       "      <th>Kidhome</th>\n",
       "      <th>Teenhome</th>\n",
       "      <th>segment</th>\n",
       "    </tr>\n",
       "  </thead>\n",
       "  <tbody>\n",
       "    <tr>\n",
       "      <th>0</th>\n",
       "      <td>218</td>\n",
       "      <td>1970</td>\n",
       "      <td>Graduation</td>\n",
       "      <td>Divorced</td>\n",
       "      <td>84835</td>\n",
       "      <td>0</td>\n",
       "      <td>0</td>\n",
       "      <td>1</td>\n",
       "    </tr>\n",
       "    <tr>\n",
       "      <th>1</th>\n",
       "      <td>37</td>\n",
       "      <td>1961</td>\n",
       "      <td>Graduation</td>\n",
       "      <td>Single</td>\n",
       "      <td>57091</td>\n",
       "      <td>0</td>\n",
       "      <td>0</td>\n",
       "      <td>1</td>\n",
       "    </tr>\n",
       "    <tr>\n",
       "      <th>2</th>\n",
       "      <td>30</td>\n",
       "      <td>1958</td>\n",
       "      <td>Graduation</td>\n",
       "      <td>Married</td>\n",
       "      <td>67267</td>\n",
       "      <td>0</td>\n",
       "      <td>1</td>\n",
       "      <td>2</td>\n",
       "    </tr>\n",
       "    <tr>\n",
       "      <th>3</th>\n",
       "      <td>0</td>\n",
       "      <td>1967</td>\n",
       "      <td>Graduation</td>\n",
       "      <td>Together</td>\n",
       "      <td>32474</td>\n",
       "      <td>1</td>\n",
       "      <td>1</td>\n",
       "      <td>3</td>\n",
       "    </tr>\n",
       "    <tr>\n",
       "      <th>4</th>\n",
       "      <td>34</td>\n",
       "      <td>1989</td>\n",
       "      <td>Graduation</td>\n",
       "      <td>Single</td>\n",
       "      <td>21474</td>\n",
       "      <td>1</td>\n",
       "      <td>0</td>\n",
       "      <td>0</td>\n",
       "    </tr>\n",
       "  </tbody>\n",
       "</table>\n",
       "</div>"
      ],
      "text/plain": [
       "   gold_pur  Year_Birth   Education Marital_Status  income  Kidhome  Teenhome  \\\n",
       "0       218        1970  Graduation       Divorced   84835        0         0   \n",
       "1        37        1961  Graduation         Single   57091        0         0   \n",
       "2        30        1958  Graduation        Married   67267        0         1   \n",
       "3         0        1967  Graduation       Together   32474        1         1   \n",
       "4        34        1989  Graduation         Single   21474        1         0   \n",
       "\n",
       "   segment  \n",
       "0        1  \n",
       "1        1  \n",
       "2        2  \n",
       "3        3  \n",
       "4        0  "
      ]
     },
     "execution_count": 4,
     "metadata": {},
     "output_type": "execute_result"
    }
   ],
   "source": [
    "df = df.drop(df.columns[[0,2,3,4,5,6,7]] , axis =1 )\n",
    "df.head()"
   ]
  },
  {
   "cell_type": "code",
   "execution_count": 5,
   "id": "77bbcd72",
   "metadata": {},
   "outputs": [],
   "source": [
    "#encoding Marital_Status and Education\n",
    "code = {}\n",
    "cols = ['Marital_Status' , 'Education']\n",
    "for col in cols:\n",
    "    code[col] = LabelEncoder().fit(df[col])\n",
    "    \n",
    "for col in cols :\n",
    "    df[col] = code[col].transform(df[col])"
   ]
  },
  {
   "cell_type": "code",
   "execution_count": 6,
   "id": "ffb65be4",
   "metadata": {},
   "outputs": [
    {
     "data": {
      "text/html": [
       "<div>\n",
       "<style scoped>\n",
       "    .dataframe tbody tr th:only-of-type {\n",
       "        vertical-align: middle;\n",
       "    }\n",
       "\n",
       "    .dataframe tbody tr th {\n",
       "        vertical-align: top;\n",
       "    }\n",
       "\n",
       "    .dataframe thead th {\n",
       "        text-align: right;\n",
       "    }\n",
       "</style>\n",
       "<table border=\"1\" class=\"dataframe\">\n",
       "  <thead>\n",
       "    <tr style=\"text-align: right;\">\n",
       "      <th></th>\n",
       "      <th>Year_Birth</th>\n",
       "      <th>Education</th>\n",
       "      <th>Marital_Status</th>\n",
       "      <th>income</th>\n",
       "      <th>Kidhome</th>\n",
       "      <th>Teenhome</th>\n",
       "      <th>segment</th>\n",
       "    </tr>\n",
       "  </thead>\n",
       "  <tbody>\n",
       "    <tr>\n",
       "      <th>0</th>\n",
       "      <td>1970</td>\n",
       "      <td>2</td>\n",
       "      <td>2</td>\n",
       "      <td>84835</td>\n",
       "      <td>0</td>\n",
       "      <td>0</td>\n",
       "      <td>1</td>\n",
       "    </tr>\n",
       "    <tr>\n",
       "      <th>1</th>\n",
       "      <td>1961</td>\n",
       "      <td>2</td>\n",
       "      <td>4</td>\n",
       "      <td>57091</td>\n",
       "      <td>0</td>\n",
       "      <td>0</td>\n",
       "      <td>1</td>\n",
       "    </tr>\n",
       "    <tr>\n",
       "      <th>2</th>\n",
       "      <td>1958</td>\n",
       "      <td>2</td>\n",
       "      <td>3</td>\n",
       "      <td>67267</td>\n",
       "      <td>0</td>\n",
       "      <td>1</td>\n",
       "      <td>2</td>\n",
       "    </tr>\n",
       "    <tr>\n",
       "      <th>3</th>\n",
       "      <td>1967</td>\n",
       "      <td>2</td>\n",
       "      <td>5</td>\n",
       "      <td>32474</td>\n",
       "      <td>1</td>\n",
       "      <td>1</td>\n",
       "      <td>3</td>\n",
       "    </tr>\n",
       "    <tr>\n",
       "      <th>4</th>\n",
       "      <td>1989</td>\n",
       "      <td>2</td>\n",
       "      <td>4</td>\n",
       "      <td>21474</td>\n",
       "      <td>1</td>\n",
       "      <td>0</td>\n",
       "      <td>0</td>\n",
       "    </tr>\n",
       "  </tbody>\n",
       "</table>\n",
       "</div>"
      ],
      "text/plain": [
       "   Year_Birth  Education  Marital_Status  income  Kidhome  Teenhome  segment\n",
       "0        1970          2               2   84835        0         0        1\n",
       "1        1961          2               4   57091        0         0        1\n",
       "2        1958          2               3   67267        0         1        2\n",
       "3        1967          2               5   32474        1         1        3\n",
       "4        1989          2               4   21474        1         0        0"
      ]
     },
     "execution_count": 6,
     "metadata": {},
     "output_type": "execute_result"
    }
   ],
   "source": [
    "independent = df.drop(df.columns[[0]] , axis =1 )\n",
    "independent.head()"
   ]
  },
  {
   "cell_type": "code",
   "execution_count": 7,
   "id": "e96dce63",
   "metadata": {},
   "outputs": [
    {
     "data": {
      "text/plain": [
       "0    218\n",
       "1     37\n",
       "2     30\n",
       "3      0\n",
       "4     34\n",
       "Name: gold_pur, dtype: int64"
      ]
     },
     "execution_count": 7,
     "metadata": {},
     "output_type": "execute_result"
    }
   ],
   "source": [
    "dependent = df['gold_pur']\n",
    "dependent.head()"
   ]
  },
  {
   "cell_type": "markdown",
   "id": "c17c1468",
   "metadata": {},
   "source": [
    "# train test split "
   ]
  },
  {
   "cell_type": "code",
   "execution_count": 8,
   "id": "878b38f3",
   "metadata": {},
   "outputs": [],
   "source": [
    "xtrain , xtest , ytrain , ytest = train_test_split(independent , dependent , test_size = 0.3)"
   ]
  },
  {
   "cell_type": "code",
   "execution_count": 9,
   "id": "690ee224",
   "metadata": {},
   "outputs": [
    {
     "data": {
      "text/plain": [
       "(      Year_Birth  Education  Marital_Status  income  Kidhome  Teenhome  \\\n",
       " 156         1972          3               4   46423        1         1   \n",
       " 2023        1984          2               3   23228        1         0   \n",
       " 782         1978          3               5   61346        1         0   \n",
       " 35          1987          4               4   95169        0         0   \n",
       " 843         1978          2               3   51267        1         1   \n",
       " ...          ...        ...             ...     ...      ...       ...   \n",
       " 2049        1971          2               4   31632        0         0   \n",
       " 287         1956          3               4   86424        0         0   \n",
       " 1162        1984          2               5   15345        1         0   \n",
       " 2095        1974          2               5   47889        1         0   \n",
       " 363         1986          3               4   21888        1         0   \n",
       " \n",
       "       segment  \n",
       " 156         3  \n",
       " 2023        0  \n",
       " 782         0  \n",
       " 35          1  \n",
       " 843         3  \n",
       " ...       ...  \n",
       " 2049        0  \n",
       " 287         1  \n",
       " 1162        0  \n",
       " 2095        0  \n",
       " 363         0  \n",
       " \n",
       " [1551 rows x 7 columns],\n",
       "       Year_Birth  Education  Marital_Status  income  Kidhome  Teenhome  \\\n",
       " 45          1961          2               5   64260        0         0   \n",
       " 410         1957          0               3   53233        0         1   \n",
       " 33          1974          4               3   46374        0         1   \n",
       " 392         1972          4               5   38887        1         0   \n",
       " 1868        1962          2               5   75072        0         1   \n",
       " ...          ...        ...             ...     ...      ...       ...   \n",
       " 639         1972          2               3   30023        1         0   \n",
       " 1156        1989          2               3   37155        1         0   \n",
       " 1837        1959          2               2   63033        0         0   \n",
       " 1670        1953          2               3   75027        0         1   \n",
       " 174         1978          3               4   68092        0         0   \n",
       " \n",
       "       segment  \n",
       " 45          4  \n",
       " 410         2  \n",
       " 33          2  \n",
       " 392         0  \n",
       " 1868        4  \n",
       " ...       ...  \n",
       " 639         0  \n",
       " 1156        0  \n",
       " 1837        1  \n",
       " 1670        2  \n",
       " 174         1  \n",
       " \n",
       " [665 rows x 7 columns],\n",
       " 156       8\n",
       " 2023      5\n",
       " 782     142\n",
       " 35       20\n",
       " 843      12\n",
       "        ... \n",
       " 2049     32\n",
       " 287      68\n",
       " 1162     19\n",
       " 2095      4\n",
       " 363      64\n",
       " Name: gold_pur, Length: 1551, dtype: int64,\n",
       " 45       30\n",
       " 410       0\n",
       " 33       17\n",
       " 392       3\n",
       " 1868    125\n",
       "        ... \n",
       " 639      21\n",
       " 1156      3\n",
       " 1837     30\n",
       " 1670     77\n",
       " 174      48\n",
       " Name: gold_pur, Length: 665, dtype: int64)"
      ]
     },
     "execution_count": 9,
     "metadata": {},
     "output_type": "execute_result"
    }
   ],
   "source": [
    "xtrain , xtest , ytrain , ytest"
   ]
  },
  {
   "cell_type": "code",
   "execution_count": 10,
   "id": "a5930a5c",
   "metadata": {},
   "outputs": [
    {
     "data": {
      "text/plain": [
       "(array([ 2.41660499e-01, -7.00661523e+00, -1.60141953e+00,  7.53311317e-04,\n",
       "        -1.98084417e+01, -3.93901354e+00,  1.66311357e+00]),\n",
       " -440.5793727591762)"
      ]
     },
     "execution_count": 10,
     "metadata": {},
     "output_type": "execute_result"
    }
   ],
   "source": [
    "model = LinearRegression()\n",
    "model.fit(xtrain , ytrain)\n",
    "model.coef_ , model.intercept_"
   ]
  },
  {
   "cell_type": "code",
   "execution_count": 11,
   "id": "a69e3402",
   "metadata": {},
   "outputs": [],
   "source": [
    "ypred = model.predict(xtest)"
   ]
  },
  {
   "cell_type": "code",
   "execution_count": 12,
   "id": "65ef8330",
   "metadata": {},
   "outputs": [
    {
     "data": {
      "text/plain": [
       "2486.579108030804"
      ]
     },
     "execution_count": 12,
     "metadata": {},
     "output_type": "execute_result"
    }
   ],
   "source": [
    "mse = mean_squared_error(ytest,ypred)\n",
    "mse"
   ]
  },
  {
   "cell_type": "code",
   "execution_count": 13,
   "id": "5f404e7e",
   "metadata": {},
   "outputs": [
    {
     "data": {
      "text/plain": [
       "49.865610474863374"
      ]
     },
     "execution_count": 13,
     "metadata": {},
     "output_type": "execute_result"
    }
   ],
   "source": [
    "rmse = math.sqrt(mse)\n",
    "rmse"
   ]
  },
  {
   "cell_type": "code",
   "execution_count": 14,
   "id": "f20180d4",
   "metadata": {},
   "outputs": [
    {
     "data": {
      "text/plain": [
       "43.96525270758123"
      ]
     },
     "execution_count": 14,
     "metadata": {},
     "output_type": "execute_result"
    }
   ],
   "source": [
    "np.mean(df['gold_pur'])"
   ]
  }
 ],
 "metadata": {
  "kernelspec": {
   "display_name": "Python 3 (ipykernel)",
   "language": "python",
   "name": "python3"
  },
  "language_info": {
   "codemirror_mode": {
    "name": "ipython",
    "version": 3
   },
   "file_extension": ".py",
   "mimetype": "text/x-python",
   "name": "python",
   "nbconvert_exporter": "python",
   "pygments_lexer": "ipython3",
   "version": "3.9.7"
  }
 },
 "nbformat": 4,
 "nbformat_minor": 5
}
